{
 "cells": [
  {
   "cell_type": "code",
   "execution_count": 1,
   "metadata": {},
   "outputs": [],
   "source": [
    "import numpy as np\n",
    "import matplotlib.pyplot as plt\n",
    "from matplotlib import cm\n",
    "from mpl_toolkits.mplot3d import Axes3D\n",
    "from tolsolvty import tolsolvty\n",
    "from tqdm import tqdm\n",
    "\n",
    "def draw_tol_plot():\n",
    "    #  Функция для изображения графика распознающего функционала\n",
    "    #  использует функцию calcfg из tolsolvty для подсчета значения\n",
    "    x = np.arange(-1, 1, 0.01)\n",
    "    y = np.arange(-1, 1, 0.01)\n",
    "    z = np.zeros((x.shape[0], y.shape[0]))\n",
    "    for i in range(x.shape[0]):\n",
    "        for j in range(y.shape[0]):\n",
    "            vec = np.array([[x[i]], [y[j]]])\n",
    "            z[i, j] = calcfg(vec)\n",
    "\n",
    "    #fig = plt.figure()\n",
    "    #ax = fig.add_subplot(111, projection='3d')\n",
    "    #ax.view_init(30, 100)\n",
    "    fig = go.Figure(data=[go.Surface(z=z, x=x, y=y)])\n",
    "    # ax.plot([0], [-0.06], [z[100, 94]], markerfacecolor='c', markeredgecolor='c', marker='*', markersize=10)\n",
    "    #print(z[100, 94])\n",
    "    fig.update_layout(   xaxis_title=\"X1\",\n",
    "                         yaxis_title=\"X2\",\n",
    "                         title=\"Tol(X1,X2)\")\n",
    "\n",
    "    fig.show()"
   ]
  },
  {
   "cell_type": "code",
   "execution_count": 16,
   "metadata": {},
   "outputs": [],
   "source": [
    "def calcfg(x):\n",
    "        #\n",
    "        #   функция, которая вычисляет значение f максимизируемого распознающего\n",
    "        #   функционала и его суперградиент g;  кроме того, она выдаёт вектор tt\n",
    "        #   из значений образующих функционала в данной точке аргумента\n",
    "        #\n",
    "\n",
    "        absx = abs(x)\n",
    "\n",
    "        Acx = Ac @ x\n",
    "        Arabsx = Ar @ absx\n",
    "\n",
    "        infs = bc - (Acx - Arabsx)\n",
    "        sups = bc - (Acx + Arabsx)\n",
    "\n",
    "        tt = weight * (br - np.maximum(abs(infs), abs(sups)))\n",
    "    \n",
    "        mc = np.argmin(tt)\n",
    "        f = tt[mc]\n",
    "        return f"
   ]
  },
  {
   "cell_type": "code",
   "execution_count": 17,
   "metadata": {},
   "outputs": [],
   "source": [
    "infAT = infA.T\n",
    "supAT = supA.T\n",
    "infbT = np.array([[0], [0], [0]])\n",
    "supbT = np.array([[1], [1], [1]])"
   ]
  },
  {
   "cell_type": "code",
   "execution_count": 18,
   "metadata": {},
   "outputs": [],
   "source": [
    "Ac = 0.5 * (infAT + supAT)\n",
    "Ar = 0.5 * (supAT - infAT)\n",
    "bc = 0.5 * (infbT + supbT)\n",
    "br = 0.5 * (supbT - infbT)"
   ]
  },
  {
   "cell_type": "code",
   "execution_count": 19,
   "metadata": {},
   "outputs": [],
   "source": [
    "m = np.size(supAT, 0)\n",
    "weight = np.ones((m, 1))"
   ]
  },
  {
   "cell_type": "code",
   "execution_count": 20,
   "metadata": {
    "scrolled": false
   },
   "outputs": [
    {
     "ename": "ValueError",
     "evalue": "matmul: Input operand 1 has a mismatch in its core dimension 0, with gufunc signature (n?,k),(k,m?)->(n?,m?) (size 2 is different from 3)",
     "output_type": "error",
     "traceback": [
      "\u001b[1;31m---------------------------------------------------------------------------\u001b[0m",
      "\u001b[1;31mValueError\u001b[0m                                Traceback (most recent call last)",
      "\u001b[1;32m<ipython-input-20-a8e4afe024d9>\u001b[0m in \u001b[0;36m<module>\u001b[1;34m\u001b[0m\n\u001b[1;32m----> 1\u001b[1;33m \u001b[0mdraw_tol_plot\u001b[0m\u001b[1;33m(\u001b[0m\u001b[1;33m)\u001b[0m\u001b[1;33m\u001b[0m\u001b[1;33m\u001b[0m\u001b[0m\n\u001b[0m",
      "\u001b[1;32m<ipython-input-1-142bd2189c27>\u001b[0m in \u001b[0;36mdraw_tol_plot\u001b[1;34m()\u001b[0m\n\u001b[0;32m     15\u001b[0m         \u001b[1;32mfor\u001b[0m \u001b[0mj\u001b[0m \u001b[1;32min\u001b[0m \u001b[0mrange\u001b[0m\u001b[1;33m(\u001b[0m\u001b[0my\u001b[0m\u001b[1;33m.\u001b[0m\u001b[0mshape\u001b[0m\u001b[1;33m[\u001b[0m\u001b[1;36m0\u001b[0m\u001b[1;33m]\u001b[0m\u001b[1;33m)\u001b[0m\u001b[1;33m:\u001b[0m\u001b[1;33m\u001b[0m\u001b[1;33m\u001b[0m\u001b[0m\n\u001b[0;32m     16\u001b[0m             \u001b[0mvec\u001b[0m \u001b[1;33m=\u001b[0m \u001b[0mnp\u001b[0m\u001b[1;33m.\u001b[0m\u001b[0marray\u001b[0m\u001b[1;33m(\u001b[0m\u001b[1;33m[\u001b[0m\u001b[1;33m[\u001b[0m\u001b[0mx\u001b[0m\u001b[1;33m[\u001b[0m\u001b[0mi\u001b[0m\u001b[1;33m]\u001b[0m\u001b[1;33m]\u001b[0m\u001b[1;33m,\u001b[0m \u001b[1;33m[\u001b[0m\u001b[0my\u001b[0m\u001b[1;33m[\u001b[0m\u001b[0mj\u001b[0m\u001b[1;33m]\u001b[0m\u001b[1;33m]\u001b[0m\u001b[1;33m]\u001b[0m\u001b[1;33m)\u001b[0m\u001b[1;33m\u001b[0m\u001b[1;33m\u001b[0m\u001b[0m\n\u001b[1;32m---> 17\u001b[1;33m             \u001b[0mz\u001b[0m\u001b[1;33m[\u001b[0m\u001b[0mi\u001b[0m\u001b[1;33m,\u001b[0m \u001b[0mj\u001b[0m\u001b[1;33m]\u001b[0m \u001b[1;33m=\u001b[0m \u001b[0mcalcfg\u001b[0m\u001b[1;33m(\u001b[0m\u001b[0mvec\u001b[0m\u001b[1;33m)\u001b[0m\u001b[1;33m\u001b[0m\u001b[1;33m\u001b[0m\u001b[0m\n\u001b[0m\u001b[0;32m     18\u001b[0m \u001b[1;33m\u001b[0m\u001b[0m\n\u001b[0;32m     19\u001b[0m     \u001b[1;31m#fig = plt.figure()\u001b[0m\u001b[1;33m\u001b[0m\u001b[1;33m\u001b[0m\u001b[1;33m\u001b[0m\u001b[0m\n",
      "\u001b[1;32m<ipython-input-16-28bead98503f>\u001b[0m in \u001b[0;36mcalcfg\u001b[1;34m(x)\u001b[0m\n\u001b[0;32m      8\u001b[0m         \u001b[0mabsx\u001b[0m \u001b[1;33m=\u001b[0m \u001b[0mabs\u001b[0m\u001b[1;33m(\u001b[0m\u001b[0mx\u001b[0m\u001b[1;33m)\u001b[0m\u001b[1;33m\u001b[0m\u001b[1;33m\u001b[0m\u001b[0m\n\u001b[0;32m      9\u001b[0m \u001b[1;33m\u001b[0m\u001b[0m\n\u001b[1;32m---> 10\u001b[1;33m         \u001b[0mAcx\u001b[0m \u001b[1;33m=\u001b[0m \u001b[0mAc\u001b[0m \u001b[1;33m@\u001b[0m \u001b[0mx\u001b[0m\u001b[1;33m\u001b[0m\u001b[1;33m\u001b[0m\u001b[0m\n\u001b[0m\u001b[0;32m     11\u001b[0m         \u001b[0mArabsx\u001b[0m \u001b[1;33m=\u001b[0m \u001b[0mAr\u001b[0m \u001b[1;33m@\u001b[0m \u001b[0mabsx\u001b[0m\u001b[1;33m\u001b[0m\u001b[1;33m\u001b[0m\u001b[0m\n\u001b[0;32m     12\u001b[0m \u001b[1;33m\u001b[0m\u001b[0m\n",
      "\u001b[1;31mValueError\u001b[0m: matmul: Input operand 1 has a mismatch in its core dimension 0, with gufunc signature (n?,k),(k,m?)->(n?,m?) (size 2 is different from 3)"
     ]
    }
   ],
   "source": [
    "draw_tol_plot()"
   ]
  },
  {
   "cell_type": "code",
   "execution_count": null,
   "metadata": {},
   "outputs": [],
   "source": []
  },
  {
   "cell_type": "code",
   "execution_count": 7,
   "metadata": {},
   "outputs": [],
   "source": [
    "import plotly.graph_objects as go"
   ]
  },
  {
   "cell_type": "code",
   "execution_count": 3,
   "metadata": {},
   "outputs": [],
   "source": [
    "def find_ive(tolmax, infA, supA, infb, supb):\n",
    "    \n",
    "    res = np.linalg.cond(infA)\n",
    "    for i in np.arange(infA[0][0], supA[0][0], (supA[0][0]-infA[0][0])/10):\n",
    "        for j in np.arange(infA[0][1], supA[0][1], (supA[0][1]-infA[0][1])/10):\n",
    "            for k in np.arange(infA[0][2], supA[0][2], (supA[0][2]-infA[0][2])/10):\n",
    "                for i1 in np.arange(infA[1][0], supA[1][0], (supA[1][0]-infA[1][0])/10):\n",
    "                    for j1 in np.arange(infA[1][1], supA[1][1], (supA[1][1]-infA[1][1])/10):\n",
    "                        for k1 in np.arange(infA[1][2], supA[1][2], (supA[1][2]-infA[1][2])/10):\n",
    "                            A=[[i,j,k], [i1,j1,k1]]\n",
    "                            c = np.linalg.cond(A)\n",
    "                            if c<res:\n",
    "                                res = c\n",
    "    arg_max = np.linalg.norm(argmax)                        \n",
    "    b_norm = np.linalg.norm((supb + infb) / 2)\n",
    "    \n",
    "    return arg_max * res * tolmax / b_norm"
   ]
  },
  {
   "cell_type": "code",
   "execution_count": 4,
   "metadata": {},
   "outputs": [
    {
     "name": "stdout",
     "output_type": "stream",
     "text": [
      " \n",
      " Допусковое множество решений интервальной линейной системы непусто \n",
      " \n",
      "tolmax =  [0.23999842]\n",
      "argmax =  [[ 3.10000931e-01]\n",
      " [-3.40962195e-08]\n",
      " [ 6.99982520e-02]]\n",
      "envs =  [[1.         0.23999811]\n",
      " [2.         0.2399997 ]]\n",
      "ccode =  3\n",
      "ive =  [0.04323529]\n"
     ]
    }
   ],
   "source": [
    "path_folder = 'example'\n",
    "\n",
    "infA = np.loadtxt(path_folder + '/infA.txt')\n",
    "supA = np.loadtxt(path_folder + '/supA.txt')\n",
    "\n",
    "infb = np.loadtxt(path_folder + '/infb.txt', ndmin=2)\n",
    "supb = np.loadtxt(path_folder + '/supb.txt', ndmin=2)\n",
    "\n",
    "[tolmax, argmax, envs, ccode] = tolsolvty(infA, supA, infb, supb)\n",
    "print('tolmax = ', tolmax)\n",
    "print('argmax = ', argmax)\n",
    "print('envs = ', envs)\n",
    "print('ccode = ', ccode)\n",
    "print('ive = ', find_ive(tolmax, infA, supA, infb, supb))"
   ]
  },
  {
   "cell_type": "code",
   "execution_count": 12,
   "metadata": {},
   "outputs": [
    {
     "data": {
      "text/plain": [
       "array([[3. ],\n",
       "       [3.9],\n",
       "       [2. ]])"
      ]
     },
     "execution_count": 12,
     "metadata": {},
     "output_type": "execute_result"
    }
   ],
   "source": []
  },
  {
   "cell_type": "code",
   "execution_count": null,
   "metadata": {},
   "outputs": [],
   "source": []
  }
 ],
 "metadata": {
  "kernelspec": {
   "display_name": "Python 3",
   "language": "python",
   "name": "python3"
  },
  "language_info": {
   "codemirror_mode": {
    "name": "ipython",
    "version": 3
   },
   "file_extension": ".py",
   "mimetype": "text/x-python",
   "name": "python",
   "nbconvert_exporter": "python",
   "pygments_lexer": "ipython3",
   "version": "3.8.3"
  }
 },
 "nbformat": 4,
 "nbformat_minor": 4
}
